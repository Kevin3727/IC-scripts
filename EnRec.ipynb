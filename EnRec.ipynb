{
 "cells": [
  {
   "cell_type": "code",
   "execution_count": 1,
   "metadata": {
    "collapsed": true,
    "deletable": true,
    "editable": true
   },
   "outputs": [],
   "source": [
    "import icecube\n",
    "from I3Tray import *\n",
    "from icecube import icetray, dataio, dataclasses, photonics_service, DomTools\n",
    "from icecube import tableio, hdfwriter\n",
    "import copy,math\n",
    "import numpy as np\n",
    "import tables\n",
    "from icecube.hdfwriter import I3HDFWriter\n",
    "import matplotlib as mpl\n",
    "import pylab\n",
    "import matplotlib.pyplot as plt\n",
    "from os.path import expandvars\n",
    "import sys, os\n",
    "import glob\n",
    "from icecube import NewNuFlux\n",
    "from icecube.icetray import I3Units\n",
    "import matplotlib.gridspec as gridspec\n",
    "import pickle\n",
    "from scipy.optimize import curve_fit\n",
    "\n",
    "from icecube.weighting.fluxes import Hoerandel5,GaisserH3a\n",
    "from icecube.weighting import weighting\n",
    "\n",
    "conventional = NewNuFlux.makeFlux(\"honda2006\")\n",
    "conventional.knee_reweighting_model = \"gaisserH3a_elbert\"\n",
    "\n",
    "sys.path.append('/data/user/kevin/softwares/IceCubeMinDist')\n",
    "import ICMinDist\n",
    "\n",
    "sys.path.append(\"/home/kevin/softwares/\")\n",
    "import dashi\n",
    "dashi.visual()"
   ]
  },
  {
   "cell_type": "code",
   "execution_count": 2,
   "metadata": {
    "collapsed": true,
    "deletable": true,
    "editable": true
   },
   "outputs": [],
   "source": [
    "%matplotlib inline"
   ]
  },
  {
   "cell_type": "markdown",
   "metadata": {
    "collapsed": false,
    "deletable": true,
    "editable": true
   },
   "source": [
    "\"Millipde\" gives energy losses along the event track.\n",
    "There are one event per frame."
   ]
  },
  {
   "cell_type": "code",
   "execution_count": 3,
   "metadata": {
    "collapsed": true,
    "deletable": true,
    "editable": true
   },
   "outputs": [],
   "source": [
    "def get_millipede_energy_data(Frame, starting_cut=False):\n",
    "    \"\"\"\n",
    "    Getting millipede energy losses for each frame\n",
    "    starting_cut: True for muon events (i.e. strarting tracks)\n",
    "        and False for through-going muon events\n",
    "    returns: Total_Time, Total_Released_Energy, AccumulatedEnergy(array),\n",
    "        AccumulatedEnergy_Percentile(array), CascadeEnergy,\n",
    "        min_dist_of_cascade, IsStarting\n",
    "    \"\"\"\n",
    "    if('MillipedeHighEnergy' not in frame.keys()):\n",
    "        return [], [], [], [], 0, 1000, False\n",
    "    Millipede_ = frame['MillipedeHighEnergy']\n",
    "    Time_ = []\n",
    "    Energy_ = []\n",
    "    AccumulatedEnergy_ = []\n",
    "    AccumulatedEnergy_Percentile_ = []\n",
    "    CascadeEnergy_ = 0.0\n",
    "    j_0 = 0  # begining of sequence\n",
    "    j_1 = 0  # end of sequence\n",
    "\n",
    "    # find begining of track\n",
    "    for i in range(len(Millipede_)):\n",
    "        if(Millipede_[i].energy > 0.0):\n",
    "            if(ICMinDist.minDistDet(Millipede_[i].pos.x,\n",
    "                                    Millipede_[i].pos.y,\n",
    "                                    Millipede_[i].pos.z) <= 0):\n",
    "                j_0 = i\n",
    "                IsStarting_ = True\n",
    "                mc_ = ICMinDist.minDistDet(Millipede_[i].pos.x,\n",
    "                                           Millipede_[i].pos.y,\n",
    "                                           Millipede_[i].pos.z)\n",
    "                break\n",
    "\n",
    "            j_0 = i\n",
    "            IsStarting_ = False\n",
    "            mc_ = 1000\n",
    "            break\n",
    "\n",
    "    # find end of track\n",
    "    for i in range(j_0, len(Millipede_)):\n",
    "        if(ICMinDist.minDistDet(Millipede_[i].pos.x,\n",
    "                                Millipede_[i].pos.y,\n",
    "                                Millipede_[i].pos.z) >= 0):\n",
    "            j_1 = i\n",
    "            break\n",
    "\n",
    "    # get cascade energy\n",
    "    if(IsStarting_):\n",
    "        for i in range(j_0, min(j_0 + 3, j_1)):\n",
    "            CascadeEnergy_ += Millipede_[i].energy\n",
    "\n",
    "    # will remove the cascade part (3x10m or define distance)\n",
    "    if(starting_cut):\n",
    "        if(IsStarting_):\n",
    "            j_0 += 3\n",
    "\n",
    "    # if track length is zero\n",
    "    if(j_0 >= j_1):\n",
    "        return Time_, Energy_, AccumulatedEnergy_, AccumulatedEnergy_Percentile_, CascadeEnergy_, mc_, False\n",
    "\n",
    "    for i in range(j_0, j_1):\n",
    "        Time_.append(Millipede_[i].time)\n",
    "        Energy_.append(Millipede_[i].energy)\n",
    "        AccumulatedEnergy_.append(sum(Energy_))\n",
    "\n",
    "    for i in range(100):\n",
    "        AccumulatedEnergy_Percentile_.append(\n",
    "            np.percentile(AccumulatedEnergy_, i))\n",
    "\n",
    "    return Time_, Energy_, AccumulatedEnergy_, AccumulatedEnergy_Percentile_, CascadeEnergy_, mc_, IsStarting_"
   ]
  },
  {
   "cell_type": "code",
   "execution_count": 4,
   "metadata": {
    "collapsed": true,
    "deletable": true,
    "editable": true
   },
   "outputs": [],
   "source": [
    "# just an array of percentiles\n",
    "# default from 0 to 100 (excluding 100) every 0.01\n",
    "PercentileX = []\n",
    "PERCENTILE_SIZE = 100\n",
    "for i in range(PERCENTILE_SIZE):\n",
    "    PercentileX.append(i * 1. / PERCENTILE_SIZE)"
   ]
  },
  {
   "cell_type": "markdown",
   "metadata": {
    "collapsed": true,
    "deletable": true,
    "editable": true
   },
   "source": [
    "IceCube data are saved on \".i3\" files which is iterable on frames and each frame contians a dictionary which includes events' info."
   ]
  },
  {
   "cell_type": "code",
   "execution_count": 5,
   "metadata": {
    "collapsed": true,
    "deletable": true,
    "editable": true
   },
   "outputs": [],
   "source": [
    "# Opening .i3 file\n",
    "inFile = dataio.I3File('/data/ana/SterileNeutrino/IC86/startingTracks/data/2012/12560/L4/0000000-0000999/Level4_IC86.2012_nugen_numu_000000.i3.bz2')"
   ]
  },
  {
   "cell_type": "markdown",
   "metadata": {
    "deletable": true,
    "editable": true
   },
   "source": [
    "Going along the track and ploting the CDF of the energy losses. These data (among other things) will be used for neurino energy reconstruction."
   ]
  },
  {
   "cell_type": "code",
   "execution_count": 7,
   "metadata": {
    "collapsed": false,
    "deletable": true,
    "editable": true
   },
   "outputs": [
    {
     "name": "stdout",
     "output_type": "stream",
     "text": [
      "(861.963994675608, 1834.6025235897923, 1956.28109200238)\n",
      "(159.8310700042303, 2334.9486663870084, 110.06434490903453)\n",
      "(550.5499338806334, 1501.0384283916483, 100.86158372010314)\n",
      "(734.9672434190371, 2435.0178949464516, 134.06293331383492)\n",
      "(542.861189754496, 3569.1358186201414, 74.19407977371165)\n",
      "(152.29954519019626, 2468.374304466266, 21.816520605080502)\n",
      "(149.30450763688017, 1634.464066470906, 42.92532582412911)\n",
      "(1202.7148438823078, 2368.305075906823, 248.25397702680303)\n",
      "(75.46961100387226, 2401.6614854266372, 24.53456814415298)\n",
      "(333.47225421155923, 1134.1179236736898, 208.7762219431392)\n"
     ]
    },
    {
     "data": {
      "image/png": "[encoded data removed]",
      "text/plain": [
       "<matplotlib.figure.Figure at 0x520af50>"
      ]
     },
     "metadata": {},
     "output_type": "display_data"
    }
   ],
   "source": [
    "# Only for visualisation \n",
    "fig = plt.figure(figsize=(12, 8))\n",
    "\n",
    "inFile.rewind()\n",
    "j = 0\n",
    "while(inFile.more()):\n",
    "    frame = inFile.pop_physics()\n",
    "    Time, Energy, AccumulatedEnergy, AccumulatedEnergy_Percentile, CascadeEnergy, mc, IsStarting = get_millipede_energy_data(\n",
    "        frame, starting_cut=True)\n",
    "    if(IsStarting):\n",
    "        plt.plot(PercentileX, AccumulatedEnergy_Percentile, linewidth=2)\n",
    "        print(dataclasses.get_most_energetic_muon(frame['I3MCTree']).energy, Time[-1] - Time[0],\n",
    "              CascadeEnergy)\n",
    "        j += 1\n",
    "    if(j > 9):\n",
    "        break\n",
    "\n",
    "plt.legend(fontsize=20, loc=4)\n",
    "plt.xlabel('Normalized Track Length', fontsize=20)\n",
    "plt.ylabel('Accumulated Muon Energy Along The Track', fontsize=20)\n",
    "plt.tick_params(axis='both', which='major', labelsize=20)"
   ]
  },
  {
   "cell_type": "code",
   "execution_count": 8,
   "metadata": {
    "collapsed": false,
    "deletable": true,
    "editable": true
   },
   "outputs": [],
   "source": [
    "# Closing the file.\n",
    "inFile.close()"
   ]
  },
  {
   "cell_type": "markdown",
   "metadata": {
    "collapsed": false,
    "deletable": true,
    "editable": true
   },
   "source": [
    "Using scikit-learn regressor for neutrino energy reconstruction."
   ]
  },
  {
   "cell_type": "code",
   "execution_count": 17,
   "metadata": {
    "collapsed": true,
    "deletable": true,
    "editable": true
   },
   "outputs": [],
   "source": [
    "from sklearn.tree import DecisionTreeRegressor\n",
    "from sklearn.ensemble import AdaBoostRegressor\n",
    "from sklearn.cross_validation import train_test_split\n",
    "from sklearn.externals import joblib\n",
    "import glob"
   ]
  },
  {
   "cell_type": "markdown",
   "metadata": {
    "deletable": true,
    "editable": true
   },
   "source": [
    "Loading data from the files intp numpy arrays."
   ]
  },
  {
   "cell_type": "code",
   "execution_count": 40,
   "metadata": {
    "collapsed": false,
    "deletable": true,
    "editable": true
   },
   "outputs": [],
   "source": [
    "# nfiles and nEvents are number of files and number of events\n",
    "# per file in the simulations which will be necessary to properly\n",
    "# weight the events.\n",
    "nfiles=999\n",
    "nEvents=50000\n",
    "\n",
    "j = 0\n",
    "for file in glob.glob('/data/ana/SterileNeutrino/IC86/startingTracks/data/2012/12560/L4/0000000-0000999/Level4_IC86.2012_nugen_numu_*.i3.bz2'):\n",
    "    inFile = dataio.I3File(file)\n",
    "    while(inFile.more()):\n",
    "        frame=inFile.pop_physics()\n",
    "        if(frame!=None):\n",
    "            Time,AccumulatedEnergy_Percentile,CascadeEnergy,mc_,Status = get_millipede_energy_data_short(frame, starting_cut=True)\n",
    "            if((mc_<-f(CascadeEnergy))&(dataclasses.get_most_energetic_muon(frame['I3MCTree'])!=None)&Status):\n",
    "                X_=AccumulatedEnergy_Percentile\n",
    "                X_.append(Time[-1]-Time[0])\n",
    "                X_.append(CascadeEnergy)\n",
    "                y_ = dataclasses.get_most_energetic_muon(frame['I3MCTree']).energy\n",
    "                pt_ = dataclasses.get_most_energetic_cascade(frame['I3MCTree']).pos\n",
    "                mt_ = ICMinDist.minDistDet(pt_.x,pt_.y,pt_.z)\n",
    "                icecube.weighting.get_weighted_primary(frame,MCPrimary='prime')\n",
    "                En_ = frame['prime'].energy\n",
    "                Zen_ = frame['prime'].dir.zenith\n",
    "                Type_ = frame['prime'].type\n",
    "                OW_ = frame['I3MCWeightDict']['OneWeight']\n",
    "                weight_ = np.divide(conventional.getFlux(np.int32(Type_),En_,np.cos(Zen_)),\n",
    "                           (0.5*nEvents*nfiles))\n",
    "                w_=np.multiply(weight_,OW_)\n",
    "                if(j==0):\n",
    "                    X = np.copy(X_)\n",
    "                    y = np.copy(y_)\n",
    "                    mc = np.copy(mc_)\n",
    "                    mt = np.copy(mt_)\n",
    "                    w = np.copy(w_)\n",
    "                else:\n",
    "                    X = np.column_stack((X, X_))\n",
    "                    y = np.column_stack((y, y_))\n",
    "                    mc = np.column_stack((mc, mc_))\n",
    "                    mt = np.column_stack((mt, mt_))\n",
    "                    w = np.column_stack((w, w_))\n",
    "                j += 1\n",
    "    inFile.close()"
   ]
  },
  {
   "cell_type": "markdown",
   "metadata": {
    "deletable": true,
    "editable": true
   },
   "source": [
    "Saving them in pickle files for convenience."
   ]
  },
  {
   "cell_type": "code",
   "execution_count": 9,
   "metadata": {
    "collapsed": true,
    "deletable": true,
    "editable": true
   },
   "outputs": [],
   "source": [
    "import pickle"
   ]
  },
  {
   "cell_type": "code",
   "execution_count": 10,
   "metadata": {
    "collapsed": false,
    "deletable": true,
    "editable": true
   },
   "outputs": [
    {
     "data": {
      "text/plain": [
       "'pickle.dump( X, open( \"12560_X.p\", \"wb\" ) )\\npickle.dump( y, open( \"12560_y.p\", \"wb\" ) )\\npickle.dump( mc, open( \"12560_mc.p\", \"wb\" ) )\\npickle.dump( mt, open( \"12560_mt.p\", \"wb\" ) )\\npickle.dump( w, open( \"12560_w.p\", \"wb\" ) )'"
      ]
     },
     "execution_count": 10,
     "metadata": {},
     "output_type": "execute_result"
    }
   ],
   "source": [
    "# Comment out to avoid accidental overwriting.\n",
    "\n",
    "'''pickle.dump( X, open( \"12560_X.p\", \"wb\" ) )\n",
    "pickle.dump( y, open( \"12560_y.p\", \"wb\" ) )\n",
    "pickle.dump( mc, open( \"12560_mc.p\", \"wb\" ) )\n",
    "pickle.dump( mt, open( \"12560_mt.p\", \"wb\" ) )\n",
    "pickle.dump( w, open( \"12560_w.p\", \"wb\" ) )'''"
   ]
  },
  {
   "cell_type": "code",
   "execution_count": 11,
   "metadata": {
    "collapsed": false,
    "deletable": true,
    "editable": true
   },
   "outputs": [],
   "source": [
    "# Load data from pickle files\n",
    "\n",
    "X = pickle.load( open( '12560_X.p', \"rb\" ) )\n",
    "y = pickle.load( open( '12560_y.p', \"rb\" ) )\n",
    "mc = pickle.load( open( '12560_mc.p', \"rb\" ) )\n",
    "mt = pickle.load( open( '12560_mt.p', \"rb\" ) )\n",
    "w = pickle.load( open( '12560_w.p', \"rb\" ) )"
   ]
  },
  {
   "cell_type": "markdown",
   "metadata": {
    "collapsed": false,
    "deletable": true,
    "editable": true
   },
   "source": [
    "Calculating dE/dx (energy per length) is one of the varibale which is directly correlated to the energy of muons."
   ]
  },
  {
   "cell_type": "code",
   "execution_count": 12,
   "metadata": {
    "collapsed": false,
    "deletable": true,
    "editable": true
   },
   "outputs": [],
   "source": [
    "# Calculating dE/dx\n",
    "for i in range(len(X[-3,:])):\n",
    "    if(X[-2,i]>0):\n",
    "        dEdx_ = np.divide(X[-3,i],X[-2,i]*0.299792458)\n",
    "    else:\n",
    "        dEdx_ = 0.0\n",
    "    if(i==0):\n",
    "        dEdx = np.array([dEdx_])\n",
    "    else:\n",
    "        dEdx = np.append(dEdx,dEdx_)"
   ]
  },
  {
   "cell_type": "code",
   "execution_count": 13,
   "metadata": {
    "collapsed": false,
    "deletable": true,
    "editable": true
   },
   "outputs": [],
   "source": [
    "# Stack them onto X\n",
    "X=np.row_stack((X,dEdx))"
   ]
  },
  {
   "cell_type": "code",
   "execution_count": 14,
   "metadata": {
    "collapsed": true,
    "deletable": true,
    "editable": true
   },
   "outputs": [],
   "source": [
    "# Transpose all the variables\n",
    "X=X.T\n",
    "y=y.T\n",
    "mc=mc.T\n",
    "mt=mt.T\n",
    "w=w.T"
   ]
  },
  {
   "cell_type": "markdown",
   "metadata": {
    "deletable": true,
    "editable": true
   },
   "source": [
    "Traing should be done on 90% of the events (due to limited statistics of the simulation) and 10% of testing.\n",
    "\n",
    "*Since training will be done on a different simulation set (NuGen) than the dataset that analysis will be done on (NuFSGen), splitting will not be necessary for the final run. This will give us more data to train on.\n",
    "\n",
    "*NuGen is more comprehensive ergo the trainings should be done using them. NuFSGen has more statistics and extra information about the events which is necessary for the final analysis."
   ]
  },
  {
   "cell_type": "code",
   "execution_count": 18,
   "metadata": {
    "collapsed": false,
    "deletable": true,
    "editable": true
   },
   "outputs": [],
   "source": [
    "# Not needed for final run*\n",
    "# Splitind data into train/test datasets\n",
    "X_train, X_test, y_train, y_test = train_test_split(X, y, test_size=.1,random_state=42)\n",
    "mc_train, mc_test, mt_train, mt_test, w_train, w_test = train_test_split(mc, mt, w, test_size=.1,random_state=42)"
   ]
  },
  {
   "cell_type": "code",
   "execution_count": 19,
   "metadata": {
    "collapsed": false,
    "deletable": true,
    "editable": true
   },
   "outputs": [
    {
     "name": "stdout",
     "output_type": "stream",
     "text": [
      "(103, 2)\n"
     ]
    }
   ],
   "source": [
    "# shape of X\n",
    "print(np.row_stack((X[0].T,X[1].T)).T.shape)"
   ]
  },
  {
   "cell_type": "markdown",
   "metadata": {
    "collapsed": false,
    "deletable": true,
    "editable": true
   },
   "source": [
    "Running the fit:"
   ]
  },
  {
   "cell_type": "code",
   "execution_count": 485,
   "metadata": {
    "collapsed": false,
    "deletable": true,
    "editable": true
   },
   "outputs": [
    {
     "data": {
      "text/plain": [
       "AdaBoostRegressor(base_estimator=DecisionTreeRegressor(criterion='mse', max_depth=None, max_features=None,\n",
       "           max_leaf_nodes=None, min_samples_leaf=1, min_samples_split=2,\n",
       "           min_weight_fraction_leaf=0.0, presort=False, random_state=None,\n",
       "           splitter='best'),\n",
       "         learning_rate=1.0, loss='linear', n_estimators=30,\n",
       "         random_state=<mtrand.RandomState object at 0x602d1768>)"
      ]
     },
     "execution_count": 485,
     "metadata": {},
     "output_type": "execute_result"
    }
   ],
   "source": [
    "rng = np.random.RandomState(1)\n",
    "\n",
    "regr = AdaBoostRegressor(DecisionTreeRegressor(),\n",
    "                          n_estimators=30, random_state=rng)\n",
    "\n",
    "regr.fit(X, y,sample_weight=w)"
   ]
  },
  {
   "cell_type": "code",
   "execution_count": 511,
   "metadata": {
    "collapsed": false,
    "deletable": true,
    "editable": true
   },
   "outputs": [
    {
     "data": {
      "text/plain": [
       "['nuEn/regr/regr_12560_weighted_unFiltered_30.pkl',\n",
       " 'nuEn/regr/regr_12560_weighted_unFiltered_30.pkl_01.npy',\n",
       " 'nuEn/regr/regr_12560_weighted_unFiltered_30.pkl_02.npy',\n",
       " 'nuEn/regr/regr_12560_weighted_unFiltered_30.pkl_03.npy',\n",
       " 'nuEn/regr/regr_12560_weighted_unFiltered_30.pkl_04.npy',\n",
       " 'nuEn/regr/regr_12560_weighted_unFiltered_30.pkl_05.npy',\n",
       " 'nuEn/regr/regr_12560_weighted_unFiltered_30.pkl_06.npy']"
      ]
     },
     "execution_count": 511,
     "metadata": {},
     "output_type": "execute_result"
    }
   ],
   "source": [
    "# dumping info\n",
    "# joblib.dump(regr_7, 'nuEn/regr/regr_12560_weighted_unFiltered_30.pkl')"
   ]
  },
  {
   "cell_type": "markdown",
   "metadata": {
    "collapsed": true,
    "deletable": true,
    "editable": true
   },
   "source": [
    "Redining \"get_millipede_energy_data\" for faster processing:"
   ]
  },
  {
   "cell_type": "code",
   "execution_count": 20,
   "metadata": {
    "collapsed": true,
    "deletable": true,
    "editable": true
   },
   "outputs": [],
   "source": [
    "def get_millipede_energy_data_short(Frame, starting_cut=False):\n",
    "    if('MillipedeHighEnergy' not  in frame.keys()):\n",
    "        return [], [], 0, 1000, False\n",
    "    Millipede_ = frame['MillipedeHighEnergy']\n",
    "    Time_ = []\n",
    "    Energy_ = []\n",
    "    AccumulatedEnergy_ = []\n",
    "    AccumulatedEnergy_Percentile_ = []\n",
    "    CascadeEnergy_ = 0.0\n",
    "    j_0 = 0 #begining of sequence\n",
    "    j_1 = 0 #end of sequence\n",
    "    \n",
    "    #find begining of track\n",
    "    for i in range(len(Millipede_)):\n",
    "        if(Millipede_[i].energy>0.0):\n",
    "            if(ICMinDist.minDistDet(Millipede_[i].pos.x,\n",
    "                                    Millipede_[i].pos.y,\n",
    "                                    Millipede_[i].pos.z) <= 0):\n",
    "                j_0 = i\n",
    "                IsStarting_ = True\n",
    "                mc_ = ICMinDist.minDistDet(Millipede_[i].pos.x,\n",
    "                                           Millipede_[i].pos.y,\n",
    "                                           Millipede_[i].pos.z)\n",
    "                break\n",
    "                \n",
    "            j_0 = i\n",
    "            IsStarting_= False\n",
    "            mc_ = 1000\n",
    "            break\n",
    "    \n",
    "    #find end of track\n",
    "    for i in range(j_0, len(Millipede_)):\n",
    "        if(ICMinDist.minDistDet(Millipede_[i].pos.x,\n",
    "                                Millipede_[i].pos.y,\n",
    "                                Millipede_[i].pos.z) >= 0):\n",
    "            j_1 = i\n",
    "            break\n",
    "\n",
    "    #get cascade energy\n",
    "    if(IsStarting_):\n",
    "        for i in range(j_0, min(j_0+3,j_1)):\n",
    "            CascadeEnergy_ += Millipede_[i].energy\n",
    "    \n",
    "    #will remove the cascade part (3x10m or define distance)\n",
    "    if(starting_cut):\n",
    "        if(IsStarting_):\n",
    "            j_0 += 3\n",
    "    \n",
    "    #if track length is zero\n",
    "    if(j_0 >= j_1):\n",
    "        return [], [], CascadeEnergy_, mc_, False\n",
    "    \n",
    "    \n",
    "    for i in range(j_0, j_1):\n",
    "        Time_.append(Millipede_[i].time)\n",
    "        Energy_.append(Millipede_[i].energy)\n",
    "        AccumulatedEnergy_.append(sum(Energy_))\n",
    "        \n",
    "    for i in range(100):\n",
    "        AccumulatedEnergy_Percentile_.append(np.percentile(AccumulatedEnergy_,i))\n",
    "    \n",
    "    return  Time_, AccumulatedEnergy_Percentile_, CascadeEnergy_, mc_, True"
   ]
  },
  {
   "cell_type": "markdown",
   "metadata": {},
   "source": [
    "Looking at the results of the machie learning in \"EnRecResult.ipynb\"."
   ]
  }
 ],
 "metadata": {
  "kernelspec": {
   "display_name": "Python 2",
   "language": "python",
   "name": "python2"
  },
  "language_info": {
   "codemirror_mode": {
    "name": "ipython",
    "version": 2
   },
   "file_extension": ".py",
   "mimetype": "text/x-python",
   "name": "python",
   "nbconvert_exporter": "python",
   "pygments_lexer": "ipython2",
   "version": "2.7.3"
  }
 },
 "nbformat": 4,
 "nbformat_minor": 2
}
